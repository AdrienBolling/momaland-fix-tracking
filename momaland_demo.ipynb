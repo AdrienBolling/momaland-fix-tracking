{
 "cells": [
  {
   "cell_type": "markdown",
   "metadata": {},
   "source": [
    "### Step 1: Install and import libraries"
   ]
  },
  {
   "cell_type": "code",
   "execution_count": 30,
   "metadata": {
    "vscode": {
     "languageId": "shellscript"
    }
   },
   "outputs": [
    {
     "name": "stdout",
     "output_type": "stream",
     "text": [
      "Requirement already satisfied: momaland in ./.venv/lib/python3.11/site-packages (0.0.2)\n",
      "Requirement already satisfied: gymnasium>=0.28 in ./.venv/lib/python3.11/site-packages (from momaland) (0.29.1)\n",
      "Requirement already satisfied: pettingzoo[butterfly,sisl] in ./.venv/lib/python3.11/site-packages (from momaland) (1.24.3)\n",
      "Requirement already satisfied: numpy>=1.21.0 in ./.venv/lib/python3.11/site-packages (from momaland) (1.26.2)\n",
      "Requirement already satisfied: networkx>=3.1 in ./.venv/lib/python3.11/site-packages (from momaland) (3.2.1)\n",
      "Requirement already satisfied: sympy>=1.12 in ./.venv/lib/python3.11/site-packages (from momaland) (1.12)\n",
      "Requirement already satisfied: pygame>=2.0.1 in ./.venv/lib/python3.11/site-packages (from momaland) (2.3.0)\n",
      "Requirement already satisfied: PyOpenGL==3.1.6 in ./.venv/lib/python3.11/site-packages (from momaland) (3.1.6)\n",
      "Requirement already satisfied: PyOpenGL-accelerate>=3.1.1 in ./.venv/lib/python3.11/site-packages (from momaland) (3.1.7)\n",
      "Requirement already satisfied: pillow>=8.3.1 in ./.venv/lib/python3.11/site-packages (from momaland) (10.1.0)\n",
      "Requirement already satisfied: wandb>=0.16.1 in ./.venv/lib/python3.11/site-packages (from momaland) (0.16.1)\n",
      "Requirement already satisfied: cloudpickle>=1.2.0 in ./.venv/lib/python3.11/site-packages (from gymnasium>=0.28->momaland) (3.0.0)\n",
      "Requirement already satisfied: typing-extensions>=4.3.0 in ./.venv/lib/python3.11/site-packages (from gymnasium>=0.28->momaland) (4.8.0)\n",
      "Requirement already satisfied: farama-notifications>=0.0.1 in ./.venv/lib/python3.11/site-packages (from gymnasium>=0.28->momaland) (0.0.4)\n",
      "Requirement already satisfied: mpmath>=0.19 in ./.venv/lib/python3.11/site-packages (from sympy>=1.12->momaland) (1.3.0)\n",
      "Requirement already satisfied: Click!=8.0.0,>=7.1 in ./.venv/lib/python3.11/site-packages (from wandb>=0.16.1->momaland) (8.1.7)\n",
      "Requirement already satisfied: GitPython!=3.1.29,>=1.0.0 in ./.venv/lib/python3.11/site-packages (from wandb>=0.16.1->momaland) (3.1.40)\n",
      "Requirement already satisfied: requests<3,>=2.0.0 in ./.venv/lib/python3.11/site-packages (from wandb>=0.16.1->momaland) (2.31.0)\n",
      "Requirement already satisfied: psutil>=5.0.0 in ./.venv/lib/python3.11/site-packages (from wandb>=0.16.1->momaland) (5.9.7)\n",
      "Requirement already satisfied: sentry-sdk>=1.0.0 in ./.venv/lib/python3.11/site-packages (from wandb>=0.16.1->momaland) (1.39.1)\n",
      "Requirement already satisfied: docker-pycreds>=0.4.0 in ./.venv/lib/python3.11/site-packages (from wandb>=0.16.1->momaland) (0.4.0)\n",
      "Requirement already satisfied: PyYAML in ./.venv/lib/python3.11/site-packages (from wandb>=0.16.1->momaland) (6.0.1)\n",
      "Requirement already satisfied: setproctitle in ./.venv/lib/python3.11/site-packages (from wandb>=0.16.1->momaland) (1.3.3)\n",
      "Requirement already satisfied: setuptools in ./.venv/lib/python3.11/site-packages (from wandb>=0.16.1->momaland) (69.0.3)\n",
      "Requirement already satisfied: appdirs>=1.4.3 in ./.venv/lib/python3.11/site-packages (from wandb>=0.16.1->momaland) (1.4.4)\n",
      "Requirement already satisfied: protobuf!=4.21.0,<5,>=3.19.0 in ./.venv/lib/python3.11/site-packages (from wandb>=0.16.1->momaland) (4.25.1)\n",
      "Requirement already satisfied: pymunk==6.2.0 in ./.venv/lib/python3.11/site-packages (from pettingzoo[butterfly,sisl]->momaland) (6.2.0)\n",
      "Requirement already satisfied: box2d-py==2.3.5 in ./.venv/lib/python3.11/site-packages (from pettingzoo[butterfly,sisl]->momaland) (2.3.5)\n",
      "Requirement already satisfied: scipy>=1.4.1 in ./.venv/lib/python3.11/site-packages (from pettingzoo[butterfly,sisl]->momaland) (1.11.3)\n",
      "Requirement already satisfied: cffi>1.14.0 in ./.venv/lib/python3.11/site-packages (from pymunk==6.2.0->pettingzoo[butterfly,sisl]->momaland) (1.16.0)\n",
      "Requirement already satisfied: six>=1.4.0 in ./.venv/lib/python3.11/site-packages (from docker-pycreds>=0.4.0->wandb>=0.16.1->momaland) (1.16.0)\n",
      "Requirement already satisfied: gitdb<5,>=4.0.1 in ./.venv/lib/python3.11/site-packages (from GitPython!=3.1.29,>=1.0.0->wandb>=0.16.1->momaland) (4.0.11)\n",
      "Requirement already satisfied: charset-normalizer<4,>=2 in ./.venv/lib/python3.11/site-packages (from requests<3,>=2.0.0->wandb>=0.16.1->momaland) (3.3.2)\n",
      "Requirement already satisfied: idna<4,>=2.5 in ./.venv/lib/python3.11/site-packages (from requests<3,>=2.0.0->wandb>=0.16.1->momaland) (3.6)\n",
      "Requirement already satisfied: urllib3<3,>=1.21.1 in ./.venv/lib/python3.11/site-packages (from requests<3,>=2.0.0->wandb>=0.16.1->momaland) (2.1.0)\n",
      "Requirement already satisfied: certifi>=2017.4.17 in ./.venv/lib/python3.11/site-packages (from requests<3,>=2.0.0->wandb>=0.16.1->momaland) (2023.11.17)\n",
      "Requirement already satisfied: pycparser in ./.venv/lib/python3.11/site-packages (from cffi>1.14.0->pymunk==6.2.0->pettingzoo[butterfly,sisl]->momaland) (2.21)\n",
      "Requirement already satisfied: smmap<6,>=3.0.1 in ./.venv/lib/python3.11/site-packages (from gitdb<5,>=4.0.1->GitPython!=3.1.29,>=1.0.0->wandb>=0.16.1->momaland) (5.0.1)\n",
      "Note: you may need to restart the kernel to use updated packages.\n"
     ]
    }
   ],
   "source": [
    "pip install momaland"
   ]
  },
  {
   "cell_type": "markdown",
   "metadata": {},
   "source": [
    "### Step 2: Create an environment"
   ]
  },
  {
   "cell_type": "code",
   "execution_count": 10,
   "metadata": {},
   "outputs": [],
   "source": [
    "from momaland.envs.multiwalker import momultiwalker_v0\n",
    "\n",
    "env=momultiwalker_v0.env()"
   ]
  },
  {
   "cell_type": "markdown",
   "metadata": {},
   "source": [
    "### Step 3: Extract environment information"
   ]
  },
  {
   "cell_type": "code",
   "execution_count": 11,
   "metadata": {},
   "outputs": [
    {
     "data": {
      "text/plain": [
       "{'walker_0': Box(-inf, inf, (31,), float32),\n",
       " 'walker_1': Box(-inf, inf, (31,), float32),\n",
       " 'walker_2': Box(-inf, inf, (31,), float32)}"
      ]
     },
     "execution_count": 11,
     "metadata": {},
     "output_type": "execute_result"
    }
   ],
   "source": [
    "env.observation_spaces"
   ]
  },
  {
   "cell_type": "code",
   "execution_count": 12,
   "metadata": {},
   "outputs": [
    {
     "data": {
      "text/plain": [
       "{'walker_0': Box(-1.0, 1.0, (4,), float32),\n",
       " 'walker_1': Box(-1.0, 1.0, (4,), float32),\n",
       " 'walker_2': Box(-1.0, 1.0, (4,), float32)}"
      ]
     },
     "execution_count": 12,
     "metadata": {},
     "output_type": "execute_result"
    }
   ],
   "source": [
    "env.action_spaces"
   ]
  },
  {
   "cell_type": "code",
   "execution_count": 13,
   "metadata": {},
   "outputs": [
    {
     "data": {
      "text/plain": [
       "{'walker_0': Box([  -0.46666667 -110.         -100.        ], [0.46666667 0.         0.        ], (3,), float32),\n",
       " 'walker_1': Box([  -0.46666667 -110.         -100.        ], [0.46666667 0.         0.        ], (3,), float32),\n",
       " 'walker_2': Box([  -0.46666667 -110.         -100.        ], [0.46666667 0.         0.        ], (3,), float32)}"
      ]
     },
     "execution_count": 13,
     "metadata": {},
     "output_type": "execute_result"
    }
   ],
   "source": [
    "env.reward_spaces"
   ]
  },
  {
   "cell_type": "markdown",
   "metadata": {},
   "source": [
    "### Step 4.1: AEC API Demo\n",
    "Observation, rewards, termination, truncation, and info are returned by the `last()` function, as in PZ. Except the rewards are vectorial!"
   ]
  },
  {
   "cell_type": "code",
   "execution_count": 14,
   "metadata": {},
   "outputs": [
    {
     "name": "stdout",
     "output_type": "stream",
     "text": [
      "[array([0., 0., 0.], dtype=float32), array([0., 0., 0.], dtype=float32), array([0., 0., 0.], dtype=float32), array([0., 0., 0.], dtype=float32), array([0., 0., 0.], dtype=float32), array([0., 0., 0.]), array([0., 0., 0.], dtype=float32), array([0., 0., 0.], dtype=float32), array([0., 0., 0.]), array([0., 0., 0.], dtype=float32), array([0., 0., 0.], dtype=float32), array([0., 0., 0.]), array([0., 0., 0.], dtype=float32), array([0., 0., 0.], dtype=float32), array([0., 0., 0.]), array([0., 0., 0.], dtype=float32), array([0., 0., 0.], dtype=float32), array([0., 0., 0.]), array([0., 0., 0.], dtype=float32), array([0., 0., 0.], dtype=float32), array([0., 0., 0.]), array([0., 0., 0.], dtype=float32), array([0., 0., 0.], dtype=float32), array([0., 0., 0.]), array([0., 0., 0.], dtype=float32), array([0., 0., 0.], dtype=float32), array([0., 0., 0.]), array([0., 0., 0.], dtype=float32), array([0., 0., 0.], dtype=float32), array([0., 0., 0.]), array([0., 0., 0.], dtype=float32), array([0., 0., 0.], dtype=float32), array([0., 0., 0.]), array([0., 0., 0.], dtype=float32), array([0., 0., 0.], dtype=float32), array([0., 0., 0.]), array([0., 0., 0.], dtype=float32), array([0., 0., 0.], dtype=float32), array([0., 0., 0.]), array([0., 0., 0.], dtype=float32), array([0., 0., 0.], dtype=float32), array([0., 0., 0.]), array([0., 0., 0.], dtype=float32), array([0., 0., 0.], dtype=float32), array([0., 0., 0.]), array([0., 0., 0.], dtype=float32), array([0., 0., 0.], dtype=float32), array([0., 0., 0.]), array([-0.0017395,  0.       ,  0.       ], dtype=float32), array([-0.0017395,  0.       ,  0.       ], dtype=float32), array([-0.0017395,  0.       ,  0.       ]), array([-0.00173187,  0.        ,  0.        ], dtype=float32), array([-0.00173187,  0.        ,  0.        ], dtype=float32), array([-0.00173187,  0.        ,  0.        ]), array([-0.00235081,  0.        ,  0.        ], dtype=float32), array([-0.00235081,  0.        ,  0.        ], dtype=float32), array([-0.00235081,  0.        ,  0.        ]), array([-0.00235081,  0.        ,  0.        ], dtype=float32), array([-0.00235081,  0.        ,  0.        ], dtype=float32), array([-0.00235081,  0.        ,  0.        ]), array([-0.00238132,  0.        ,  0.        ], dtype=float32), array([-0.00238132,  0.        ,  0.        ], dtype=float32), array([-0.00238132,  0.        ,  0.        ]), array([-0.00238132,  0.        ,  0.        ], dtype=float32), array([-0.00238132,  0.        ,  0.        ], dtype=float32), array([-0.00238132,  0.        ,  0.        ]), array([-0.00269699,  0.        ,  0.        ], dtype=float32), array([-0.00269699,  0.        ,  0.        ], dtype=float32), array([-0.00269699,  0.        ,  0.        ]), array([-0.00543785,  0.        ,  0.        ], dtype=float32), array([-0.00543785,  0.        ,  0.        ], dtype=float32), array([-0.00543785,  0.        ,  0.        ]), array([-0.00525761,  0.        ,  0.        ], dtype=float32), array([-0.00525761,  0.        ,  0.        ], dtype=float32), array([-0.00525761,  0.        ,  0.        ]), array([-0.0049696,  0.       ,  0.       ], dtype=float32), array([-0.0049696,  0.       ,  0.       ], dtype=float32), array([-0.0049696,  0.       ,  0.       ]), array([-0.00284576,  0.        ,  0.        ], dtype=float32), array([-0.00284576,  0.        ,  0.        ], dtype=float32), array([-0.00284576,  0.        ,  0.        ]), array([-0.00223446,  0.        ,  0.        ], dtype=float32), array([-0.00223446,  0.        ,  0.        ], dtype=float32), array([-0.00223446,  0.        ,  0.        ]), array([0.00078106, 0.        , 0.        ], dtype=float32), array([0.00078106, 0.        , 0.        ], dtype=float32), array([0.00078106, 0.        , 0.        ]), array([0.00137615, 0.        , 0.        ], dtype=float32), array([0.00137615, 0.        , 0.        ], dtype=float32), array([0.00137615, 0.        , 0.        ]), array([0.00239944, 0.        , 0.        ], dtype=float32), array([0.00239944, 0.        , 0.        ], dtype=float32), array([0.00239944, 0.        , 0.        ]), array([0.00189018, 0.        , 0.        ], dtype=float32), array([0.00189018, 0.        , 0.        ], dtype=float32), array([0.00189018, 0.        , 0.        ]), array([0.00067711, 0.        , 0.        ], dtype=float32), array([0.00067711, 0.        , 0.        ], dtype=float32), array([0.00067711, 0.        , 0.        ]), array([0.00011444, 0.        , 0.        ], dtype=float32), array([0.00011444, 0.        , 0.        ], dtype=float32), array([0.00011444, 0.        , 0.        ]), array([0.00081444, 0.        , 0.        ], dtype=float32), array([0.00081444, 0.        , 0.        ], dtype=float32), array([0.00081444, 0.        , 0.        ]), array([0.00081253, 0.        , 0.        ], dtype=float32), array([0.00081253, 0.        , 0.        ], dtype=float32), array([0.00081253, 0.        , 0.        ]), array([0.00081253, 0.        , 0.        ], dtype=float32), array([0.00081253, 0.        , 0.        ], dtype=float32), array([0.00081253, 0.        , 0.        ]), array([0.00265598, 0.        , 0.        ], dtype=float32), array([0.00265598, 0.        , 0.        ], dtype=float32), array([0.00265598, 0.        , 0.        ]), array([0.00484657, 0.        , 0.        ], dtype=float32), array([0.00484657, 0.        , 0.        ], dtype=float32), array([0.00484657, 0.        , 0.        ]), array([0.00483036, 0.        , 0.        ], dtype=float32), array([0.00483036, 0.        , 0.        ], dtype=float32), array([0.00483036, 0.        , 0.        ]), array([0.00483036, 0.        , 0.        ], dtype=float32), array([0.00483036, 0.        , 0.        ], dtype=float32), array([0.00483036, 0.        , 0.        ]), array([0.00483036, 0.        , 0.        ], dtype=float32), array([0.00483036, 0.        , 0.        ], dtype=float32), array([0.00483036, 0.        , 0.        ]), array([0.00483036, 0.        , 0.        ], dtype=float32), array([0.00483036, 0.        , 0.        ], dtype=float32), array([0.00483036, 0.        , 0.        ]), array([0.00540733, 0.        , 0.        ], dtype=float32), array([0.00540733, 0.        , 0.        ], dtype=float32), array([0.00540733, 0.        , 0.        ]), array([0.00541115, 0.        , 0.        ], dtype=float32), array([0.00541115, 0.        , 0.        ], dtype=float32), array([0.00541115, 0.        , 0.        ]), array([0.00506401, 0.        , 0.        ], dtype=float32), array([0.00506401, 0.        , 0.        ], dtype=float32), array([0.00506401, 0.        , 0.        ]), array([0.00506401, 0.        , 0.        ], dtype=float32), array([0.00506401, 0.        , 0.        ], dtype=float32), array([0.00506401, 0.        , 0.        ]), array([0.00707912, 0.        , 0.        ], dtype=float32), array([0.00707912, 0.        , 0.        ], dtype=float32), array([0.00707912, 0.        , 0.        ]), array([0.00532818, 0.        , 0.        ], dtype=float32), array([0.00532818, 0.        , 0.        ], dtype=float32), array([0.00532818, 0.        , 0.        ]), array([0.00324917, 0.        , 0.        ], dtype=float32), array([0.00324917, 0.        , 0.        ], dtype=float32), array([0.00324917, 0.        , 0.        ]), array([0.0031786, 0.       , 0.       ], dtype=float32), array([0.0031786, 0.       , 0.       ], dtype=float32), array([0.0031786, 0.       , 0.       ]), array([0.00361633, 0.        , 0.        ], dtype=float32), array([0.00361633, 0.        , 0.        ], dtype=float32), array([0.00361633, 0.        , 0.        ]), array([0.00408363, 0.        , 0.        ], dtype=float32), array([0.00408363, 0.        , 0.        ], dtype=float32), array([0.00408363, 0.        , 0.        ]), array([0.00408363, 0.        , 0.        ], dtype=float32), array([0.00408363, 0.        , 0.        ], dtype=float32), array([0.00408363, 0.        , 0.        ]), array([0.00291157, 0.        , 0.        ], dtype=float32), array([0.00291157, 0.        , 0.        ], dtype=float32), array([0.00291157, 0.        , 0.        ]), array([0.00291157, 0.        , 0.        ], dtype=float32), array([0.00291157, 0.        , 0.        ], dtype=float32), array([0.00291157, 0.        , 0.        ]), array([0.00291157, 0.        , 0.        ], dtype=float32), array([0.00291157, 0.        , 0.        ], dtype=float32), array([0.00291157, 0.        , 0.        ]), array([0.00291157, 0.        , 0.        ], dtype=float32), array([0.00291157, 0.        , 0.        ], dtype=float32), array([0.00291157, 0.        , 0.        ]), array([0.00291157, 0.        , 0.        ], dtype=float32), array([0.00291157, 0.        , 0.        ], dtype=float32), array([0.00291157, 0.        , 0.        ]), array([0.00291157, 0.        , 0.        ], dtype=float32), array([0.00291157, 0.        , 0.        ], dtype=float32), array([0.00291157, 0.        , 0.        ]), array([0.00291157, 0.        , 0.        ], dtype=float32), array([0.00291157, 0.        , 0.        ], dtype=float32), array([0.00291157, 0.        , 0.        ]), array([0.00291157, 0.        , 0.        ], dtype=float32), array([0.00291157, 0.        , 0.        ], dtype=float32), array([0.00291157, 0.        , 0.        ]), array([0.00291157, 0.        , 0.        ], dtype=float32), array([0.00291157, 0.        , 0.        ], dtype=float32), array([0.00291157, 0.        , 0.        ]), array([-0.00069904,  0.        ,  0.        ], dtype=float32), array([-0.00069904,  0.        ,  0.        ], dtype=float32), array([-0.00069904,  0.        ,  0.        ]), array([-0.0048914,  0.       ,  0.       ], dtype=float32), array([-0.0048914,  0.       ,  0.       ], dtype=float32), array([-0.0048914,  0.       ,  0.       ]), array([-0.00696564,  0.        ,  0.        ], dtype=float32), array([-0.00696564,  0.        ,  0.        ], dtype=float32), array([-0.00696564,  0.        ,  0.        ]), array([-0.00862885,  0.        ,  0.        ], dtype=float32), array([-0.00862885,  0.        ,  0.        ], dtype=float32), array([-0.00862885,  0.        ,  0.        ]), array([-0.0081358,  0.       ,  0.       ], dtype=float32), array([-0.0081358,  0.       ,  0.       ], dtype=float32), array([-0.0081358,  0.       ,  0.       ]), array([-0.00808334,  0.        ,  0.        ], dtype=float32), array([-0.00808334,  0.        ,  0.        ], dtype=float32), array([-0.00808334,  0.        ,  0.        ]), array([-0.00871658,  0.        ,  0.        ], dtype=float32), array([-0.00871658,  0.        ,  0.        ], dtype=float32), array([-0.00871658,  0.        ,  0.        ]), array([-0.00795174,  0.        ,  0.        ], dtype=float32), array([-0.00795174,  0.        ,  0.        ], dtype=float32), array([-0.00795174,  0.        ,  0.        ]), array([-0.00764656,  0.        ,  0.        ], dtype=float32), array([-0.00764656,  0.        ,  0.        ], dtype=float32), array([-0.00764656,  0.        ,  0.        ]), array([-0.00764656,  0.        ,  0.        ], dtype=float32), array([-0.00764656,  0.        ,  0.        ], dtype=float32), array([-0.00764656,  0.        ,  0.        ]), array([-0.00764656,  0.        ,  0.        ], dtype=float32), array([-0.00764656,  0.        ,  0.        ], dtype=float32), array([-0.00764656,  0.        ,  0.        ]), array([-0.01107502,  0.        ,  0.        ], dtype=float32), array([-0.01107502,  0.        ,  0.        ], dtype=float32), array([-0.01107502,  0.        ,  0.        ]), array([-0.0111351,  0.       ,  0.       ], dtype=float32), array([-0.0111351,  0.       ,  0.       ], dtype=float32), array([-0.0111351,  0.       ,  0.       ]), array([-0.01299,  0.     ,  0.     ], dtype=float32), array([-0.01299,  0.     ,  0.     ], dtype=float32), array([-0.01299,  0.     ,  0.     ]), array([-0.01289558,  0.        ,  0.        ], dtype=float32), array([-0.01289558,  0.        ,  0.        ], dtype=float32), array([-0.01289558,  0.        ,  0.        ]), array([-0.01191521,  0.        ,  0.        ], dtype=float32), array([-0.01191521,  0.        ,  0.        ], dtype=float32), array([-0.01191521,  0.        ,  0.        ]), array([-9.98497009e-03, -1.03333336e+02,  0.00000000e+00], dtype=float32), array([-9.98497009e-03, -1.03333336e+02,  0.00000000e+00], dtype=float32), array([-9.98497009e-03, -1.03333336e+02,  0.00000000e+00])]\n"
     ]
    }
   ],
   "source": [
    "env.reset()\n",
    "episode_rewards = []\n",
    "for agent in env.agent_iter():\n",
    "    # the rewards are vectors!\n",
    "    observation, vec_reward, termination, truncation, info = env.last()\n",
    "    episode_rewards.append(vec_reward)\n",
    "    if termination or truncation:\n",
    "        action = None\n",
    "    else:\n",
    "        action = env.action_space(agent).sample()\n",
    "\n",
    "    env.step(action)\n",
    "env.close()\n",
    "print(episode_rewards)"
   ]
  },
  {
   "cell_type": "markdown",
   "metadata": {},
   "source": [
    "### Step 4.2: Parallel API Demo\n",
    "Environment is initialized with the `parallel_env()` function. Agents `step()` through the environment with their actions and receive observation/reward, similar to Gym. Key difference between AEC and Parallel is that actions and observations are dictionaries!"
   ]
  },
  {
   "cell_type": "code",
   "execution_count": 15,
   "metadata": {},
   "outputs": [
    {
     "name": "stdout",
     "output_type": "stream",
     "text": [
      "[-9.98497009e-03 -1.03333336e+02  0.00000000e+00]\n",
      "[-9.98497009e-03 -1.03333336e+02  0.00000000e+00]\n",
      "[-9.98497009e-03 -1.03333336e+02  0.00000000e+00]\n",
      "[-9.98497009e-03 -1.03333336e+02  0.00000000e+00]\n",
      "[-9.98497009e-03 -1.03333336e+02  0.00000000e+00]\n",
      "[-9.98497009e-03 -1.03333336e+02  0.00000000e+00]\n",
      "[-9.98497009e-03 -1.03333336e+02  0.00000000e+00]\n",
      "[-9.98497009e-03 -1.03333336e+02  0.00000000e+00]\n",
      "[-9.98497009e-03 -1.03333336e+02  0.00000000e+00]\n",
      "[-9.98497009e-03 -1.03333336e+02  0.00000000e+00]\n",
      "[-9.98497009e-03 -1.03333336e+02  0.00000000e+00]\n",
      "[-9.98497009e-03 -1.03333336e+02  0.00000000e+00]\n",
      "[-9.98497009e-03 -1.03333336e+02  0.00000000e+00]\n",
      "[-9.98497009e-03 -1.03333336e+02  0.00000000e+00]\n",
      "[-9.98497009e-03 -1.03333336e+02  0.00000000e+00]\n",
      "[-9.98497009e-03 -1.03333336e+02  0.00000000e+00]\n",
      "[-9.98497009e-03 -1.03333336e+02  0.00000000e+00]\n",
      "[-9.98497009e-03 -1.03333336e+02  0.00000000e+00]\n",
      "[-9.98497009e-03 -1.03333336e+02  0.00000000e+00]\n",
      "[-9.98497009e-03 -1.03333336e+02  0.00000000e+00]\n",
      "[-9.98497009e-03 -1.03333336e+02  0.00000000e+00]\n",
      "[-9.98497009e-03 -1.03333336e+02  0.00000000e+00]\n",
      "[-9.98497009e-03 -1.03333336e+02  0.00000000e+00]\n",
      "[-9.98497009e-03 -1.03333336e+02  0.00000000e+00]\n",
      "[-9.98497009e-03 -1.03333336e+02  0.00000000e+00]\n",
      "[-9.98497009e-03 -1.03333336e+02  0.00000000e+00]\n",
      "[-9.98497009e-03 -1.03333336e+02  0.00000000e+00]\n",
      "[-9.98497009e-03 -1.03333336e+02  0.00000000e+00]\n",
      "[-9.98497009e-03 -1.03333336e+02  0.00000000e+00]\n",
      "[-9.98497009e-03 -1.03333336e+02  0.00000000e+00]\n",
      "[-9.98497009e-03 -1.03333336e+02  0.00000000e+00]\n",
      "[-9.98497009e-03 -1.03333336e+02  0.00000000e+00]\n",
      "[-9.98497009e-03 -1.03333336e+02  0.00000000e+00]\n",
      "[-9.98497009e-03 -1.03333336e+02  0.00000000e+00]\n",
      "[-9.98497009e-03 -1.03333336e+02  0.00000000e+00]\n",
      "[-9.98497009e-03 -1.03333336e+02  0.00000000e+00]\n",
      "[-9.98497009e-03 -1.03333336e+02  0.00000000e+00]\n",
      "[-9.98497009e-03 -1.03333336e+02  0.00000000e+00]\n",
      "[-9.98497009e-03 -1.03333336e+02  0.00000000e+00]\n",
      "[-9.98497009e-03 -1.03333336e+02  0.00000000e+00]\n",
      "[-9.98497009e-03 -1.03333336e+02  0.00000000e+00]\n",
      "[-9.98497009e-03 -1.03333336e+02  0.00000000e+00]\n",
      "[-9.98497009e-03 -1.03333336e+02  0.00000000e+00]\n",
      "[-9.98497009e-03 -1.03333336e+02  0.00000000e+00]\n",
      "[-9.98497009e-03 -1.03333336e+02  0.00000000e+00]\n",
      "[-9.98497009e-03 -1.03333336e+02  0.00000000e+00]\n",
      "[-9.98497009e-03 -1.03333336e+02  0.00000000e+00]\n",
      "[-9.98497009e-03 -1.03333336e+02  0.00000000e+00]\n",
      "[-9.98497009e-03 -1.03333336e+02  0.00000000e+00]\n",
      "[-9.98497009e-03 -1.03333336e+02  0.00000000e+00]\n",
      "[-9.98497009e-03 -1.03333336e+02  0.00000000e+00]\n",
      "[-9.98497009e-03 -1.03333336e+02  0.00000000e+00]\n",
      "[-9.98497009e-03 -1.03333336e+02  0.00000000e+00]\n",
      "[-9.98497009e-03 -1.03333336e+02  0.00000000e+00]\n",
      "[-9.98497009e-03 -1.03333336e+02  0.00000000e+00]\n",
      "[-9.98497009e-03 -1.03333336e+02  0.00000000e+00]\n",
      "[-9.98497009e-03 -1.03333336e+02  0.00000000e+00]\n",
      "[-9.98497009e-03 -1.03333336e+02  0.00000000e+00]\n",
      "[-9.98497009e-03 -1.03333336e+02  0.00000000e+00]\n",
      "[-9.98497009e-03 -1.03333336e+02  0.00000000e+00]\n",
      "[defaultdict(<function mo_aec_to_parallel_wrapper.step.<locals>.<lambda> at 0x12691ba60>, {'walker_0': array([0., 0., 0.]), 'walker_1': array([0., 0., 0.]), 'walker_2': array([0., 0., 0.])}), defaultdict(<function mo_aec_to_parallel_wrapper.step.<locals>.<lambda> at 0x10b41fec0>, {'walker_0': array([0., 0., 0.]), 'walker_1': array([0., 0., 0.]), 'walker_2': array([0., 0., 0.])}), defaultdict(<function mo_aec_to_parallel_wrapper.step.<locals>.<lambda> at 0x126a1a840>, {'walker_0': array([0., 0., 0.]), 'walker_1': array([0., 0., 0.]), 'walker_2': array([0., 0., 0.])}), defaultdict(<function mo_aec_to_parallel_wrapper.step.<locals>.<lambda> at 0x126a1a8e0>, {'walker_0': array([0., 0., 0.]), 'walker_1': array([0., 0., 0.]), 'walker_2': array([0., 0., 0.])}), defaultdict(<function mo_aec_to_parallel_wrapper.step.<locals>.<lambda> at 0x12691b100>, {'walker_0': array([0., 0., 0.]), 'walker_1': array([0., 0., 0.]), 'walker_2': array([0., 0., 0.])}), defaultdict(<function mo_aec_to_parallel_wrapper.step.<locals>.<lambda> at 0x126a1ad40>, {'walker_0': array([0., 0., 0.]), 'walker_1': array([0., 0., 0.]), 'walker_2': array([0., 0., 0.])}), defaultdict(<function mo_aec_to_parallel_wrapper.step.<locals>.<lambda> at 0x126a1a660>, {'walker_0': array([0., 0., 0.]), 'walker_1': array([0., 0., 0.]), 'walker_2': array([0., 0., 0.])}), defaultdict(<function mo_aec_to_parallel_wrapper.step.<locals>.<lambda> at 0x126a1a520>, {'walker_0': array([0., 0., 0.]), 'walker_1': array([0., 0., 0.]), 'walker_2': array([0., 0., 0.])}), defaultdict(<function mo_aec_to_parallel_wrapper.step.<locals>.<lambda> at 0x126a1aca0>, {'walker_0': array([0., 0., 0.]), 'walker_1': array([0., 0., 0.]), 'walker_2': array([0., 0., 0.])}), defaultdict(<function mo_aec_to_parallel_wrapper.step.<locals>.<lambda> at 0x126a1bc40>, {'walker_0': array([0., 0., 0.]), 'walker_1': array([0., 0., 0.]), 'walker_2': array([0., 0., 0.])}), defaultdict(<function mo_aec_to_parallel_wrapper.step.<locals>.<lambda> at 0x126a1bec0>, {'walker_0': array([0., 0., 0.]), 'walker_1': array([0., 0., 0.]), 'walker_2': array([0., 0., 0.])}), defaultdict(<function mo_aec_to_parallel_wrapper.step.<locals>.<lambda> at 0x126a18ae0>, {'walker_0': array([-0.00202274,  0.        ,  0.        ]), 'walker_1': array([-0.00202274,  0.        ,  0.        ]), 'walker_2': array([-0.00202274,  0.        ,  0.        ])}), defaultdict(<function mo_aec_to_parallel_wrapper.step.<locals>.<lambda> at 0x1060e7ce0>, {'walker_0': array([-0.00194645,  0.        ,  0.        ]), 'walker_1': array([-0.00194645,  0.        ,  0.        ]), 'walker_2': array([-0.00194645,  0.        ,  0.        ])}), defaultdict(<function mo_aec_to_parallel_wrapper.step.<locals>.<lambda> at 0x126a1b880>, {'walker_0': array([-0.00194263,  0.        ,  0.        ]), 'walker_1': array([-0.00194263,  0.        ,  0.        ]), 'walker_2': array([-0.00194263,  0.        ,  0.        ])}), defaultdict(<function mo_aec_to_parallel_wrapper.step.<locals>.<lambda> at 0x126a1a5c0>, {'walker_0': array([-0.00194263,  0.        ,  0.        ]), 'walker_1': array([-0.00194263,  0.        ,  0.        ]), 'walker_2': array([-0.00194263,  0.        ,  0.        ])}), defaultdict(<function mo_aec_to_parallel_wrapper.step.<locals>.<lambda> at 0x126a1a2a0>, {'walker_0': array([-0.00194263,  0.        ,  0.        ]), 'walker_1': array([-0.00194263,  0.        ,  0.        ]), 'walker_2': array([-0.00194263,  0.        ,  0.        ])}), defaultdict(<function mo_aec_to_parallel_wrapper.step.<locals>.<lambda> at 0x126a1bce0>, {'walker_0': array([-0.00346279,  0.        ,  0.        ]), 'walker_1': array([-0.00346279,  0.        ,  0.        ]), 'walker_2': array([-0.00346279,  0.        ,  0.        ])}), defaultdict(<function mo_aec_to_parallel_wrapper.step.<locals>.<lambda> at 0x126a18a40>, {'walker_0': array([-0.00341415,  0.        ,  0.        ]), 'walker_1': array([-0.00341415,  0.        ,  0.        ]), 'walker_2': array([-0.00341415,  0.        ,  0.        ])}), defaultdict(<function mo_aec_to_parallel_wrapper.step.<locals>.<lambda> at 0x126a1bba0>, {'walker_0': array([-0.00341415,  0.        ,  0.        ]), 'walker_1': array([-0.00341415,  0.        ,  0.        ]), 'walker_2': array([-0.00341415,  0.        ,  0.        ])}), defaultdict(<function mo_aec_to_parallel_wrapper.step.<locals>.<lambda> at 0x126a19760>, {'walker_0': array([-0.00341415,  0.        ,  0.        ]), 'walker_1': array([-0.00341415,  0.        ,  0.        ]), 'walker_2': array([-0.00341415,  0.        ,  0.        ])}), defaultdict(<function mo_aec_to_parallel_wrapper.step.<locals>.<lambda> at 0x126a1bf60>, {'walker_0': array([-0.00456429,  0.        ,  0.        ]), 'walker_1': array([-0.00456429,  0.        ,  0.        ]), 'walker_2': array([-0.00456429,  0.        ,  0.        ])}), defaultdict(<function mo_aec_to_parallel_wrapper.step.<locals>.<lambda> at 0x126a1aac0>, {'walker_0': array([-0.00487041,  0.        ,  0.        ]), 'walker_1': array([-0.00487041,  0.        ,  0.        ]), 'walker_2': array([-0.00487041,  0.        ,  0.        ])}), defaultdict(<function mo_aec_to_parallel_wrapper.step.<locals>.<lambda> at 0x126a1ac00>, {'walker_0': array([-0.00495338,  0.        ,  0.        ]), 'walker_1': array([-0.00495338,  0.        ,  0.        ]), 'walker_2': array([-0.00495338,  0.        ,  0.        ])}), defaultdict(<function mo_aec_to_parallel_wrapper.step.<locals>.<lambda> at 0x126a1a7a0>, {'walker_0': array([-0.00489616,  0.        ,  0.        ]), 'walker_1': array([-0.00489616,  0.        ,  0.        ]), 'walker_2': array([-0.00489616,  0.        ,  0.        ])}), defaultdict(<function mo_aec_to_parallel_wrapper.step.<locals>.<lambda> at 0x126f2c720>, {'walker_0': array([-0.00489616,  0.        ,  0.        ]), 'walker_1': array([-0.00489616,  0.        ,  0.        ]), 'walker_2': array([-0.00489616,  0.        ,  0.        ])}), defaultdict(<function mo_aec_to_parallel_wrapper.step.<locals>.<lambda> at 0x126f2c7c0>, {'walker_0': array([-0.01376629,  0.        ,  0.        ]), 'walker_1': array([-0.01376629,  0.        ,  0.        ]), 'walker_2': array([-0.01376629,  0.        ,  0.        ])}), defaultdict(<function mo_aec_to_parallel_wrapper.step.<locals>.<lambda> at 0x126f2c860>, {'walker_0': array([-0.01251984,  0.        ,  0.        ]), 'walker_1': array([-0.01251984,  0.        ,  0.        ]), 'walker_2': array([-0.01251984,  0.        ,  0.        ])}), defaultdict(<function mo_aec_to_parallel_wrapper.step.<locals>.<lambda> at 0x126f2c900>, {'walker_0': array([-0.01131058,  0.        ,  0.        ]), 'walker_1': array([-0.01131058,  0.        ,  0.        ]), 'walker_2': array([-0.01131058,  0.        ,  0.        ])}), defaultdict(<function mo_aec_to_parallel_wrapper.step.<locals>.<lambda> at 0x126f2c9a0>, {'walker_0': array([-0.01195526,  0.        ,  0.        ]), 'walker_1': array([-0.01195526,  0.        ,  0.        ]), 'walker_2': array([-0.01195526,  0.        ,  0.        ])}), defaultdict(<function mo_aec_to_parallel_wrapper.step.<locals>.<lambda> at 0x126f2ca40>, {'walker_0': array([-0.01207924,  0.        ,  0.        ]), 'walker_1': array([-0.01207924,  0.        ,  0.        ]), 'walker_2': array([-0.01207924,  0.        ,  0.        ])}), defaultdict(<function mo_aec_to_parallel_wrapper.step.<locals>.<lambda> at 0x126f2cae0>, {'walker_0': array([-0.01222324,  0.        ,  0.        ]), 'walker_1': array([-0.01222324,  0.        ,  0.        ]), 'walker_2': array([-0.01222324,  0.        ,  0.        ])}), defaultdict(<function mo_aec_to_parallel_wrapper.step.<locals>.<lambda> at 0x126f2cb80>, {'walker_0': array([-0.01284599,  0.        ,  0.        ]), 'walker_1': array([-0.01284599,  0.        ,  0.        ]), 'walker_2': array([-0.01284599,  0.        ,  0.        ])}), defaultdict(<function mo_aec_to_parallel_wrapper.step.<locals>.<lambda> at 0x126f2cc20>, {'walker_0': array([-0.01296139,  0.        ,  0.        ]), 'walker_1': array([-0.01296139,  0.        ,  0.        ]), 'walker_2': array([-0.01296139,  0.        ,  0.        ])}), defaultdict(<function mo_aec_to_parallel_wrapper.step.<locals>.<lambda> at 0x126f2ccc0>, {'walker_0': array([-0.01296139,  0.        ,  0.        ]), 'walker_1': array([-0.01296139,  0.        ,  0.        ]), 'walker_2': array([-0.01296139,  0.        ,  0.        ])}), defaultdict(<function mo_aec_to_parallel_wrapper.step.<locals>.<lambda> at 0x126f2cd60>, {'walker_0': array([-0.0133009,  0.       ,  0.       ]), 'walker_1': array([-0.0133009,  0.       ,  0.       ]), 'walker_2': array([-0.0133009,  0.       ,  0.       ])}), defaultdict(<function mo_aec_to_parallel_wrapper.step.<locals>.<lambda> at 0x126f2ce00>, {'walker_0': array([-0.0133009,  0.       ,  0.       ]), 'walker_1': array([-0.0133009,  0.       ,  0.       ]), 'walker_2': array([-0.0133009,  0.       ,  0.       ])}), defaultdict(<function mo_aec_to_parallel_wrapper.step.<locals>.<lambda> at 0x126f2cea0>, {'walker_0': array([-0.0133009,  0.       ,  0.       ]), 'walker_1': array([-0.0133009,  0.       ,  0.       ]), 'walker_2': array([-0.0133009,  0.       ,  0.       ])}), defaultdict(<function mo_aec_to_parallel_wrapper.step.<locals>.<lambda> at 0x126f2cf40>, {'walker_0': array([-0.0133009,  0.       ,  0.       ]), 'walker_1': array([-0.0133009,  0.       ,  0.       ]), 'walker_2': array([-0.0133009,  0.       ,  0.       ])}), defaultdict(<function mo_aec_to_parallel_wrapper.step.<locals>.<lambda> at 0x126f2cfe0>, {'walker_0': array([-0.01189899,  0.        ,  0.        ]), 'walker_1': array([-0.01189899,  0.        ,  0.        ]), 'walker_2': array([-0.01189899,  0.        ,  0.        ])}), defaultdict(<function mo_aec_to_parallel_wrapper.step.<locals>.<lambda> at 0x126f2d080>, {'walker_0': array([-0.01182652,  0.        ,  0.        ]), 'walker_1': array([-0.01182652,  0.        ,  0.        ]), 'walker_2': array([-0.01182652,  0.        ,  0.        ])}), defaultdict(<function mo_aec_to_parallel_wrapper.step.<locals>.<lambda> at 0x126f2d120>, {'walker_0': array([-0.01182652,  0.        ,  0.        ]), 'walker_1': array([-0.01182652,  0.        ,  0.        ]), 'walker_2': array([-0.01182652,  0.        ,  0.        ])}), defaultdict(<function mo_aec_to_parallel_wrapper.step.<locals>.<lambda> at 0x126f2d1c0>, {'walker_0': array([-0.01128292,  0.        ,  0.        ]), 'walker_1': array([-0.01128292,  0.        ,  0.        ]), 'walker_2': array([-0.01128292,  0.        ,  0.        ])}), defaultdict(<function mo_aec_to_parallel_wrapper.step.<locals>.<lambda> at 0x126f2d260>, {'walker_0': array([-0.01204967,  0.        ,  0.        ]), 'walker_1': array([-0.01204967,  0.        ,  0.        ]), 'walker_2': array([-0.01204967,  0.        ,  0.        ])}), defaultdict(<function mo_aec_to_parallel_wrapper.step.<locals>.<lambda> at 0x126f2d300>, {'walker_0': array([-0.01063824,  0.        ,  0.        ]), 'walker_1': array([-0.01063824,  0.        ,  0.        ]), 'walker_2': array([-0.01063824,  0.        ,  0.        ])}), defaultdict(<function mo_aec_to_parallel_wrapper.step.<locals>.<lambda> at 0x126f2d3a0>, {'walker_0': array([-0.00990486,  0.        ,  0.        ]), 'walker_1': array([-0.00990486,  0.        ,  0.        ]), 'walker_2': array([-0.00990486,  0.        ,  0.        ])}), defaultdict(<function mo_aec_to_parallel_wrapper.step.<locals>.<lambda> at 0x126f2d440>, {'walker_0': array([-0.0086174,  0.       ,  0.       ]), 'walker_1': array([-0.0086174,  0.       ,  0.       ]), 'walker_2': array([-0.0086174,  0.       ,  0.       ])}), defaultdict(<function mo_aec_to_parallel_wrapper.step.<locals>.<lambda> at 0x126f2d4e0>, {'walker_0': array([-0.00862694,  0.        ,  0.        ]), 'walker_1': array([-0.00862694,  0.        ,  0.        ]), 'walker_2': array([-0.00862694,  0.        ,  0.        ])}), defaultdict(<function mo_aec_to_parallel_wrapper.step.<locals>.<lambda> at 0x126f2d580>, {'walker_0': array([-0.00699615,  0.        ,  0.        ]), 'walker_1': array([-0.00699615,  0.        ,  0.        ]), 'walker_2': array([-0.00699615,  0.        ,  0.        ])}), defaultdict(<function mo_aec_to_parallel_wrapper.step.<locals>.<lambda> at 0x126f2d620>, {'walker_0': array([-0.0052166,  0.       ,  0.       ]), 'walker_1': array([-0.0052166,  0.       ,  0.       ]), 'walker_2': array([-0.0052166,  0.       ,  0.       ])}), defaultdict(<function mo_aec_to_parallel_wrapper.step.<locals>.<lambda> at 0x126f2d6c0>, {'walker_0': array([-0.0050602,  0.       ,  0.       ]), 'walker_1': array([-0.0050602,  0.       ,  0.       ]), 'walker_2': array([-0.0050602,  0.       ,  0.       ])}), defaultdict(<function mo_aec_to_parallel_wrapper.step.<locals>.<lambda> at 0x126f2d760>, {'walker_0': array([-0.0050602,  0.       ,  0.       ]), 'walker_1': array([-0.0050602,  0.       ,  0.       ]), 'walker_2': array([-0.0050602,  0.       ,  0.       ])}), defaultdict(<function mo_aec_to_parallel_wrapper.step.<locals>.<lambda> at 0x126f2d800>, {'walker_0': array([-0.00490093,  0.        ,  0.        ]), 'walker_1': array([-0.00490093,  0.        ,  0.        ]), 'walker_2': array([-0.00490093,  0.        ,  0.        ])}), defaultdict(<function mo_aec_to_parallel_wrapper.step.<locals>.<lambda> at 0x126f2d8a0>, {'walker_0': array([-0.00391769,  0.        ,  0.        ]), 'walker_1': array([-0.00391769,  0.        ,  0.        ]), 'walker_2': array([-0.00391769,  0.        ,  0.        ])}), defaultdict(<function mo_aec_to_parallel_wrapper.step.<locals>.<lambda> at 0x126f2d940>, {'walker_0': array([-0.00386333,  0.        ,  0.        ]), 'walker_1': array([-0.00386333,  0.        ,  0.        ]), 'walker_2': array([-0.00386333,  0.        ,  0.        ])}), defaultdict(<function mo_aec_to_parallel_wrapper.step.<locals>.<lambda> at 0x126f2d9e0>, {'walker_0': array([-0.00254822,  0.        ,  0.        ]), 'walker_1': array([-0.00254822,  0.        ,  0.        ]), 'walker_2': array([-0.00254822,  0.        ,  0.        ])}), defaultdict(<function mo_aec_to_parallel_wrapper.step.<locals>.<lambda> at 0x126f2da80>, {'walker_0': array([-0.002882,  0.      ,  0.      ]), 'walker_1': array([-0.002882,  0.      ,  0.      ]), 'walker_2': array([-0.002882,  0.      ,  0.      ])}), defaultdict(<function mo_aec_to_parallel_wrapper.step.<locals>.<lambda> at 0x126f2db20>, {'walker_0': array([-0.00354767,  0.        ,  0.        ]), 'walker_1': array([-0.00354767,  0.        ,  0.        ]), 'walker_2': array([-0.00354767,  0.        ,  0.        ])}), defaultdict(<function mo_aec_to_parallel_wrapper.step.<locals>.<lambda> at 0x126f2dbc0>, {'walker_0': array([-0.00239277,  0.        ,  0.        ]), 'walker_1': array([-0.00239277,  0.        ,  0.        ]), 'walker_2': array([-0.00239277,  0.        ,  0.        ])}), defaultdict(<function mo_aec_to_parallel_wrapper.step.<locals>.<lambda> at 0x126f2dc60>, {'walker_0': array([-0.0020752,  0.       ,  0.       ]), 'walker_1': array([-0.0020752,  0.       ,  0.       ]), 'walker_2': array([-0.0020752,  0.       ,  0.       ])}), defaultdict(<function mo_aec_to_parallel_wrapper.step.<locals>.<lambda> at 0x126f2dd00>, {'walker_0': array([-1.45626068e-03, -1.03333336e+02,  0.00000000e+00]), 'walker_1': array([-1.45626068e-03, -1.03333336e+02,  0.00000000e+00]), 'walker_2': array([-1.45626068e-03, -1.03333336e+02,  0.00000000e+00])})]\n"
     ]
    }
   ],
   "source": [
    "env = momultiwalker_v0.parallel_env()\n",
    "obs, info = env.reset()\n",
    "episode_rewards = []\n",
    "while env.agents:\n",
    "    actions = {agent: env.action_space(agent).sample() for agent in env.agents}\n",
    "    observations, vec_rewards, terminations, truncations, infos = env.step(actions)\n",
    "    episode_rewards.append(vec_rewards)\n",
    "    print(vec_reward)\n",
    "env.close()\n",
    "print(episode_rewards)"
   ]
  },
  {
   "cell_type": "markdown",
   "metadata": {},
   "source": [
    "### Step 5: Training with MOMAPPO with OLS for Weight Generation for Cooperative Settings\n",
    "Find the full single-file implementation [here](https://github.com/Farama-Foundation/momaland/blob/main/momaland/learning/continuous/cooperative_momappo.py)."
   ]
  }
 ],
 "metadata": {
  "kernelspec": {
   "display_name": ".venv",
   "language": "python",
   "name": "python3"
  },
  "language_info": {
   "codemirror_mode": {
    "name": "ipython",
    "version": 3
   },
   "file_extension": ".py",
   "mimetype": "text/x-python",
   "name": "python",
   "nbconvert_exporter": "python",
   "pygments_lexer": "ipython3",
   "version": "3.11.7"
  }
 },
 "nbformat": 4,
 "nbformat_minor": 2
}
